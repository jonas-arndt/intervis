{
 "cells": [
  {
   "cell_type": "markdown",
   "id": "median-production",
   "metadata": {},
   "source": [
    "# Intervis data processing"
   ]
  },
  {
   "cell_type": "markdown",
   "id": "pharmaceutical-scanning",
   "metadata": {},
   "source": [
    "Download and convert the named pages of the related google spreadsheet:"
   ]
  },
  {
   "cell_type": "code",
   "execution_count": 1,
   "id": "regulated-pickup",
   "metadata": {},
   "outputs": [
    {
     "name": "stdout",
     "output_type": "stream",
     "text": [
      "Wrote file ./links.json.\n",
      "Wrote file ./references.json.\n",
      "Wrote file ./texts.json.\n",
      "Wrote file ./glossary.json.\n",
      "Wrote file ./disclosure.json.\n",
      "Done.\n"
     ]
    }
   ],
   "source": [
    "import pandas as pd\n",
    "import json\n",
    "\n",
    "file_gids = {\n",
    "    'links': '186216843',\n",
    "    'references': '1115773066',\n",
    "    'texts': '0',\n",
    "    'glossary': '1127543685',\n",
    "    'disclosure': '575388282',\n",
    "}\n",
    "\n",
    "spreadsheet_url = 'https://docs.google.com/spreadsheets/d/e/2PACX-1vTy2ONiejYXptt3uRLSeRqV1CJbbpi_68cz4Yeg9ZAdCC6tBhwK4DPgnLp6AwRK3EbYiMA2rLIVo0Z7/pub?output=csv'\n",
    "\n",
    "for filename, gid in file_gids.items():\n",
    "    df = pd.read_csv('%s&gid=%s' % (spreadsheet_url, gid), delimiter=',').dropna(how='all').fillna('')\n",
    "    data = df.to_dict('records')\n",
    "    \n",
    "    filepath = './%s.json' % filename\n",
    "    with open(filepath, 'w') as outfile:\n",
    "        json.dump(data, outfile, sort_keys=False, indent=4)\n",
    "        print('Wrote file %s.' % filepath)\n",
    "\n",
    "print('Done.')\n"
   ]
  },
  {
   "cell_type": "markdown",
   "id": "complimentary-success",
   "metadata": {},
   "source": [
    "Convert downloaded google files into language files"
   ]
  },
  {
   "cell_type": "code",
   "execution_count": 2,
   "id": "plastic-attention",
   "metadata": {},
   "outputs": [
    {
     "name": "stdout",
     "output_type": "stream",
     "text": [
      "Wrote file ../locales/de.js\n",
      "Wrote file ../locales/en.js\n",
      "Done.\n"
     ]
    },
    {
     "name": "stderr",
     "output_type": "stream",
     "text": [
      "/usr/local/lib/python3.9/site-packages/bs4/__init__.py:417: MarkupResemblesLocatorWarning: \"https://docs.google.com/forms/d/e/1FAIpQLSd9kykOGH0PTMdTi5de8w3Oz17lMRH-IjS0JNmIGfgBNdBp5w/viewform?usp=sf_link\" looks like a URL. Beautiful Soup is not an HTTP client. You should probably use an HTTP client like requests to get the document behind the URL, and feed that document to Beautiful Soup.\n",
      "  warnings.warn(\n",
      "/usr/local/lib/python3.9/site-packages/bs4/__init__.py:417: MarkupResemblesLocatorWarning: \"https://docs.google.com/forms/d/e/1FAIpQLSeynkCObZU11Vxb9PIy6e58I-US1x4FR_bl7oeX3MpGxowZpA/viewform?usp=sf_link\" looks like a URL. Beautiful Soup is not an HTTP client. You should probably use an HTTP client like requests to get the document behind the URL, and feed that document to Beautiful Soup.\n",
      "  warnings.warn(\n"
     ]
    }
   ],
   "source": [
    "from bs4 import BeautifulSoup\n",
    "import pandas as pd\n",
    "import json\n",
    "\n",
    "files = {\n",
    "    'German': '../locales/de.js',\n",
    "    'English': '../locales/en.js',\n",
    "}\n",
    "\n",
    "# Merge google files\n",
    "texts_data = pd.read_json('texts.json')\n",
    "disclosure_data = pd.read_json('disclosure.json')\n",
    "\n",
    "data = pd.concat([texts_data, disclosure_data], ignore_index=True)\n",
    "data = data.set_index('ID')\n",
    "\n",
    "# Process glossary data\n",
    "glossary = {}\n",
    "glossary_data = pd.read_json('glossary.json')\n",
    "for language in files:\n",
    "    language_data = glossary_data.loc[glossary_data.language == language].set_index('ID').drop('language', axis=1)\n",
    "    glossary[language] = language_data.to_dict('index')\n",
    "\n",
    "# Process text data\n",
    "for column in files:\n",
    "    data[column] = data[column].str.replace('\\n','<br>') # add <br>\n",
    "    \n",
    "    # add title tags\n",
    "    for index, item in data[column].iteritems():\n",
    "        #print(index, item, data[column][index])\n",
    "        \n",
    "        soup = BeautifulSoup(item, 'html.parser')\n",
    "        for tooltip in soup.find_all(class_=\"tooltip\"):\n",
    "            if tooltip.has_attr('ref') and tooltip['ref'] in glossary[column]:\n",
    "                glossary_entry = glossary[column][tooltip['ref']]\n",
    "                tooltip['title'] = glossary_entry['description']\n",
    "            \n",
    "        data[column][index] = str(soup)\n",
    "\n",
    "# output language files\n",
    "\n",
    "for (column, filepath) in files.items():\n",
    "    entries = data[column].to_dict()\n",
    "    output = 'export default ' + json.dumps(entries, indent=2)\n",
    "    \n",
    "    with open(filepath, 'w') as file:\n",
    "        file.write(output)\n",
    "        file.close()\n",
    "    \n",
    "    print('Wrote file %s' % filepath)\n",
    "\n",
    "# Done\n",
    "print('Done.')\n"
   ]
  },
  {
   "cell_type": "markdown",
   "id": "selected-rendering",
   "metadata": {},
   "source": [
    "Add structured version of links file (plain list to dict with list for each type):"
   ]
  },
  {
   "cell_type": "code",
   "execution_count": 3,
   "id": "weekly-conservation",
   "metadata": {},
   "outputs": [
    {
     "name": "stdout",
     "output_type": "stream",
     "text": [
      "Wrote file ./links_structured.json\n",
      "Done.\n"
     ]
    }
   ],
   "source": [
    "import pandas as pd\n",
    "import json\n",
    "\n",
    "data = {}\n",
    "type_key = 'Type'\n",
    "output_file = './links_structured.json'\n",
    "\n",
    "df = pd.read_json('./links.json')\n",
    "for link_type in df[type_key].unique():\n",
    "    data[link_type] = df.loc[df[type_key] == link_type].to_dict('records')\n",
    "\n",
    "with open(output_file, 'w') as file:\n",
    "    json.dump(data, file, indent=2)\n",
    "    print('Wrote file %s' % output_file)\n",
    "    file.close()\n",
    "    \n",
    "print('Done.')"
   ]
  }
 ],
 "metadata": {
  "kernelspec": {
   "display_name": "Python 3",
   "language": "python",
   "name": "python3"
  },
  "language_info": {
   "codemirror_mode": {
    "name": "ipython",
    "version": 3
   },
   "file_extension": ".py",
   "mimetype": "text/x-python",
   "name": "python",
   "nbconvert_exporter": "python",
   "pygments_lexer": "ipython3",
   "version": "3.9.2"
  }
 },
 "nbformat": 4,
 "nbformat_minor": 5
}
