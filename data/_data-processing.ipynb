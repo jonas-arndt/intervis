{
 "cells": [
  {
   "cell_type": "markdown",
   "id": "median-production",
   "metadata": {},
   "source": [
    "# Intervis data processing"
   ]
  },
  {
   "cell_type": "markdown",
   "id": "pharmaceutical-scanning",
   "metadata": {},
   "source": [
    "Download and convert the named pages of the related google spreadsheet:"
   ]
  },
  {
   "cell_type": "code",
   "execution_count": 1,
   "id": "regulated-pickup",
   "metadata": {},
   "outputs": [
    {
     "name": "stdout",
     "output_type": "stream",
     "text": [
      "Wrote file ./links.json.\n",
      "Wrote file ./references.json.\n",
      "Wrote file ./texts.json.\n",
      "Wrote file ./glossary.json.\n",
      "Wrote file ./disclosure.json.\n",
      "Done.\n"
     ]
    }
   ],
   "source": [
    "import pandas as pd\n",
    "import json\n",
    "\n",
    "file_gids = {\n",
    "    'links': '186216843',\n",
    "    'references': '1115773066',\n",
    "    'texts': '0',\n",
    "    'glossary': '1127543685',\n",
    "    'disclosure': '575388282',\n",
    "}\n",
    "\n",
    "spreadsheet_url = 'https://docs.google.com/spreadsheets/d/e/2PACX-1vTy2ONiejYXptt3uRLSeRqV1CJbbpi_68cz4Yeg9ZAdCC6tBhwK4DPgnLp6AwRK3EbYiMA2rLIVo0Z7/pub?output=csv'\n",
    "\n",
    "for filename, gid in file_gids.items():\n",
    "    df = pd.read_csv('%s&gid=%s' % (spreadsheet_url, gid)).dropna().fillna('')\n",
    "    data = df.to_dict('records')\n",
    "    \n",
    "    filepath = './%s.json' % filename\n",
    "    with open(filepath, 'w') as outfile:\n",
    "        json.dump(data, outfile, sort_keys=False, indent=4)\n",
    "        print('Wrote file %s.' % filepath)\n",
    "\n",
    "print('Done.')\n"
   ]
  }
 ],
 "metadata": {
  "kernelspec": {
   "display_name": "Python 3",
   "language": "python",
   "name": "python3"
  },
  "language_info": {
   "codemirror_mode": {
    "name": "ipython",
    "version": 3
   },
   "file_extension": ".py",
   "mimetype": "text/x-python",
   "name": "python",
   "nbconvert_exporter": "python",
   "pygments_lexer": "ipython3",
   "version": "3.9.2"
  }
 },
 "nbformat": 4,
 "nbformat_minor": 5
}
